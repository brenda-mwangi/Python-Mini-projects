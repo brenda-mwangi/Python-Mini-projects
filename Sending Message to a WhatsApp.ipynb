{
 "cells": [
  {
   "cell_type": "code",
   "execution_count": null,
   "metadata": {},
   "outputs": [],
   "source": []
  },
  {
   "cell_type": "code",
   "execution_count": 4,
   "metadata": {},
   "outputs": [
    {
     "ename": "ModuleNotFoundError",
     "evalue": "No module named 'pywhatkit'",
     "output_type": "error",
     "traceback": [
      "\u001b[1;31m---------------------------------------------------------------------------\u001b[0m",
      "\u001b[1;31mModuleNotFoundError\u001b[0m                       Traceback (most recent call last)",
      "Input \u001b[1;32mIn [4]\u001b[0m, in \u001b[0;36m<cell line: 1>\u001b[1;34m()\u001b[0m\n\u001b[1;32m----> 1\u001b[0m \u001b[38;5;28;01mimport\u001b[39;00m \u001b[38;5;21;01mpywhatkit\u001b[39;00m\n\u001b[0;32m      2\u001b[0m pywhatkit\u001b[38;5;241m.\u001b[39msettimezone(\u001b[38;5;124m\"\u001b[39m\u001b[38;5;124mAfrica/Nairobi\u001b[39m\u001b[38;5;124m\"\u001b[39m)\n",
      "\u001b[1;31mModuleNotFoundError\u001b[0m: No module named 'pywhatkit'"
     ]
    }
   ],
   "source": [
    "import pywhatkit\n",
    "pywhatkit.settimezone(\"Africa/Nairobi\")\n",
    "\n",
    "# # Send a WhatsApp Message to a Contact at 1:30 PM\n",
    "# pywhatkit.sendwhatmsg(\"+254701338348\", \"My code is running\", 0, 38)"
   ]
  },
  {
   "cell_type": "code",
   "execution_count": 1,
   "metadata": {},
   "outputs": [
    {
     "name": "stdout",
     "output_type": "stream",
     "text": [
      "In 8 Seconds WhatsApp will open and after 15 Seconds Message will be Delivered!\n",
      "In 86383 Seconds WhatsApp will open and after 15 Seconds Message will be Delivered!\n"
     ]
    }
   ],
   "source": [
    "import pywhatkit\n",
    "\n",
    "# Send a WhatsApp Message to a Contact at 1:30 PM\n",
    "pywhatkit.sendwhatmsg(\"+254777473820\", \"Hello Rose.\", 19, 9)\n",
    "pywhatkit.sendwhatmsg(\"+254777473820\", \"I'm Brenda Mwangi, campus ambassador Multimedia University of Kenya.\", 19, 10)\n",
    "pywhatkit.sendwhatmsg(\"+254777473820\", \"I filled a form for a hackathon on 20th and I have not received any feedback.\", 19, 12)\n",
    "pywhatkit.sendwhatmsg(\"+254777473820\", \"Could I please get a feedback, since I was setting the hackathon to start on 25th.\", 19, 14)\n",
    "\n"
   ]
  },
  {
   "cell_type": "code",
   "execution_count": 2,
   "metadata": {},
   "outputs": [
    {
     "name": "stdout",
     "output_type": "stream",
     "text": [
      "In 86384 Seconds WhatsApp will open and after 15 Seconds Message will be Delivered!\n"
     ]
    }
   ],
   "source": [
    "import pywhatkit\n",
    "\n",
    "# Send a WhatsApp Message to a Contact at 1:30 \n",
    "# PM\n",
    "pywhatkit.sendwhatmsg(\"+254756615906\", \"I'm Brenda Mwangi, campus ambassador Multimedia University of Kenya.\", 18, 7)"
   ]
  },
  {
   "cell_type": "code",
   "execution_count": null,
   "metadata": {},
   "outputs": [],
   "source": [
    "import pywhatkit\n",
    "\n",
    "# Send a WhatsApp Message to a Contact at 1:30 PM\n",
    "pywhatkit.sendwhatmsg(\"+254756615906\", \"I filled a form for a hackathon on 20th \", 18, 7)"
   ]
  }
 ],
 "metadata": {
  "kernelspec": {
   "display_name": "Python 3",
   "language": "python",
   "name": "python3"
  },
  "language_info": {
   "codemirror_mode": {
    "name": "ipython",
    "version": 3
   },
   "file_extension": ".py",
   "mimetype": "text/x-python",
   "name": "python",
   "nbconvert_exporter": "python",
   "pygments_lexer": "ipython3",
   "version": "3.10.9"
  },
  "vscode": {
   "interpreter": {
    "hash": "df95319d8ce4e1d89f5365ae10992bc1f65da593082b1d264e8f529830ec2f02"
   }
  }
 },
 "nbformat": 4,
 "nbformat_minor": 2
}
