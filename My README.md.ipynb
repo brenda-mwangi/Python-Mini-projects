{
 "cells": [
  {
   "cell_type": "markdown",
   "id": "670006f0",
   "metadata": {},
   "source": [
    "[![Typing SVG](https://readme-typing-svg.demolab.com/?lines=My+name+is+Brenda+Mwangi;All+about+all+things+tech!%20%20%20%20%20%20%20)](https://git.io/typing-svg)"
   ]
  },
  {
   "cell_type": "markdown",
   "id": "8231bf7a",
   "metadata": {},
   "source": [
    "[![Anurag's GitHub stats](https://github-readme-stats.vercel.app/api?username=brenda-mwangi01)](https://github.com/anuraghazra/github-readme-stats)"
   ]
  },
  {
   "cell_type": "markdown",
   "id": "7ddd6276",
   "metadata": {},
   "source": [
    "[![GitHub Streak](https://streak-stats.demolab.com/?user=kirilkirkov)](https://git.io/streak-stats)"
   ]
  }
 ],
 "metadata": {
  "kernelspec": {
   "display_name": "Python 3",
   "language": "python",
   "name": "python3"
  },
  "language_info": {
   "codemirror_mode": {
    "name": "ipython",
    "version": 3
   },
   "file_extension": ".py",
   "mimetype": "text/x-python",
   "name": "python",
   "nbconvert_exporter": "python",
   "pygments_lexer": "ipython3",
   "version": "3.10.9"
  },
  "vscode": {
   "interpreter": {
    "hash": "df95319d8ce4e1d89f5365ae10992bc1f65da593082b1d264e8f529830ec2f02"
   }
  }
 },
 "nbformat": 4,
 "nbformat_minor": 5
}
